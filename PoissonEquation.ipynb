{
 "cells": [
  {
   "cell_type": "code",
   "execution_count": 37,
   "id": "special-aerospace",
   "metadata": {},
   "outputs": [],
   "source": [
    "# (∂ₜ²+ ∂ₓ²)u = ρ\n",
    "# u = 0 on boundary\n"
   ]
  },
  {
   "cell_type": "code",
   "execution_count": 20,
   "id": "numerical-activity",
   "metadata": {},
   "outputs": [
    {
     "data": {
      "text/plain": [
       "0.02"
      ]
     },
     "execution_count": 20,
     "metadata": {},
     "output_type": "execute_result"
    }
   ],
   "source": [
    "ni=51\n",
    "# nj=5\n",
    "dx=1/(ni-1)\n",
    "# dy=1/(nj-1)"
   ]
  },
  {
   "cell_type": "code",
   "execution_count": 21,
   "id": "modular-tokyo",
   "metadata": {},
   "outputs": [],
   "source": [
    "# choose problem size\n",
    "ρ = zeros(ni)\n",
    "# ρ[:] .= 1;\n",
    "ρ[(ni÷2):(ni÷2 + 10)].= 1;"
   ]
  },
  {
   "cell_type": "code",
   "execution_count": 22,
   "id": "incorrect-solomon",
   "metadata": {},
   "outputs": [],
   "source": [
    "using LinearAlgebra\n",
    "using SparseArrays"
   ]
  },
  {
   "cell_type": "code",
   "execution_count": 23,
   "id": "significant-fossil",
   "metadata": {},
   "outputs": [],
   "source": [
    "# define non zero elements\n",
    "I = Int[]\n",
    "J = Int[]\n",
    "V = Float64[];"
   ]
  },
  {
   "cell_type": "code",
   "execution_count": 24,
   "id": "unlike-better",
   "metadata": {},
   "outputs": [
    {
     "data": {
      "text/plain": [
       "2-element Vector{Float64}:\n",
       " 1.0\n",
       " 1.0"
      ]
     },
     "execution_count": 24,
     "metadata": {},
     "output_type": "execute_result"
    }
   ],
   "source": [
    "# boundary vonditions (the easy part)\n",
    "# top boundary\n",
    "# for i in 1:ni\n",
    "# #     A[i,i]=1\n",
    "#     push!(I,i)\n",
    "#     push!(J,i)\n",
    "#     push!(V,1)\n",
    "# end\n",
    "\n",
    "push!(I,1)\n",
    "push!(J,1)\n",
    "push!(V,1)\n",
    "\n",
    "push!(I,ni)\n",
    "push!(J,ni)\n",
    "push!(V,1)\n",
    "\n",
    "# push!(I,1)\n",
    "# push!(J,1)\n",
    "# push!(V,1)\n",
    "\n",
    "# push!(I,1)\n",
    "# push!(J,1)\n",
    "# push!(V,1)"
   ]
  },
  {
   "cell_type": "code",
   "execution_count": 25,
   "id": "collaborative-density",
   "metadata": {},
   "outputs": [],
   "source": [
    "for i in 2:ni-1\n",
    "    push!(I,i)\n",
    "    push!(J,i-1)\n",
    "    push!(V,1/dx^2)\n",
    "    \n",
    "    push!(I,i)\n",
    "    push!(J,i)\n",
    "    push!(V,-2/dx^2)\n",
    "    \n",
    "    push!(I,i)\n",
    "    push!(J,i+1)\n",
    "    push!(V,1/dx^2)\n",
    "end"
   ]
  },
  {
   "cell_type": "code",
   "execution_count": 26,
   "id": "distributed-billy",
   "metadata": {},
   "outputs": [
    {
     "data": {
      "text/plain": [
       "51×51 SparseMatrixCSC{Float64, Int64} with 149 stored entries:\n",
       "⠳⣦⡀⠀⠀⠀⠀⠀⠀⠀⠀⠀⠀⠀⠀⠀⠀⠀⠀⠀⠀⠀⠀⠀⠀⠀\n",
       "⠀⠈⠻⣦⡀⠀⠀⠀⠀⠀⠀⠀⠀⠀⠀⠀⠀⠀⠀⠀⠀⠀⠀⠀⠀⠀\n",
       "⠀⠀⠀⠈⠻⣦⡀⠀⠀⠀⠀⠀⠀⠀⠀⠀⠀⠀⠀⠀⠀⠀⠀⠀⠀⠀\n",
       "⠀⠀⠀⠀⠀⠈⠻⣦⡀⠀⠀⠀⠀⠀⠀⠀⠀⠀⠀⠀⠀⠀⠀⠀⠀⠀\n",
       "⠀⠀⠀⠀⠀⠀⠀⠈⠻⣦⡀⠀⠀⠀⠀⠀⠀⠀⠀⠀⠀⠀⠀⠀⠀⠀\n",
       "⠀⠀⠀⠀⠀⠀⠀⠀⠀⠈⠻⣦⡀⠀⠀⠀⠀⠀⠀⠀⠀⠀⠀⠀⠀⠀\n",
       "⠀⠀⠀⠀⠀⠀⠀⠀⠀⠀⠀⠈⠻⣦⡀⠀⠀⠀⠀⠀⠀⠀⠀⠀⠀⠀\n",
       "⠀⠀⠀⠀⠀⠀⠀⠀⠀⠀⠀⠀⠀⠈⠻⣦⡀⠀⠀⠀⠀⠀⠀⠀⠀⠀\n",
       "⠀⠀⠀⠀⠀⠀⠀⠀⠀⠀⠀⠀⠀⠀⠀⠈⠻⣦⡀⠀⠀⠀⠀⠀⠀⠀\n",
       "⠀⠀⠀⠀⠀⠀⠀⠀⠀⠀⠀⠀⠀⠀⠀⠀⠀⠈⠻⣦⡀⠀⠀⠀⠀⠀\n",
       "⠀⠀⠀⠀⠀⠀⠀⠀⠀⠀⠀⠀⠀⠀⠀⠀⠀⠀⠀⠈⠻⣦⡀⠀⠀⠀\n",
       "⠀⠀⠀⠀⠀⠀⠀⠀⠀⠀⠀⠀⠀⠀⠀⠀⠀⠀⠀⠀⠀⠈⠻⣦⡀⠀\n",
       "⠀⠀⠀⠀⠀⠀⠀⠀⠀⠀⠀⠀⠀⠀⠀⠀⠀⠀⠀⠀⠀⠀⠀⠈⠛⠆"
      ]
     },
     "execution_count": 26,
     "metadata": {},
     "output_type": "execute_result"
    }
   ],
   "source": [
    "A = sparse(I,J,V,ni,ni)"
   ]
  },
  {
   "cell_type": "code",
   "execution_count": 27,
   "id": "about-association",
   "metadata": {},
   "outputs": [
    {
     "data": {
      "text/plain": [
       "51-element Vector{Float64}:\n",
       " 0.0\n",
       " 0.0\n",
       " 0.0\n",
       " 0.0\n",
       " 0.0\n",
       " 0.0\n",
       " 0.0\n",
       " 0.0\n",
       " 0.0\n",
       " 0.0\n",
       " 0.0\n",
       " 0.0\n",
       " 0.0\n",
       " ⋮\n",
       " 0.0\n",
       " 0.0\n",
       " 0.0\n",
       " 0.0\n",
       " 0.0\n",
       " 0.0\n",
       " 0.0\n",
       " 0.0\n",
       " 0.0\n",
       " 0.0\n",
       " 0.0\n",
       " 0.0"
      ]
     },
     "execution_count": 27,
     "metadata": {},
     "output_type": "execute_result"
    }
   ],
   "source": [
    "b = [0; ρ[2:ni-1]; 0]"
   ]
  },
  {
   "cell_type": "code",
   "execution_count": 28,
   "id": "alternate-caribbean",
   "metadata": {},
   "outputs": [],
   "source": [
    "# ] add CairoMakie"
   ]
  },
  {
   "cell_type": "code",
   "execution_count": 29,
   "id": "external-distribution",
   "metadata": {},
   "outputs": [],
   "source": [
    "using CairoMakie"
   ]
  },
  {
   "cell_type": "code",
   "execution_count": 30,
   "id": "defensive-collins",
   "metadata": {},
   "outputs": [
    {
     "data": {
      "text/plain": [
       "51-element Vector{Float64}:\n",
       "  0.0\n",
       " -0.0018479999999999842\n",
       " -0.0036959999999999684\n",
       " -0.005543999999999953\n",
       " -0.007391999999999936\n",
       " -0.009239999999999918\n",
       " -0.011087999999999902\n",
       " -0.012935999999999883\n",
       " -0.014783999999999868\n",
       " -0.016631999999999852\n",
       " -0.018479999999999837\n",
       " -0.020327999999999822\n",
       " -0.02217599999999981\n",
       "  ⋮\n",
       " -0.02807199999999982\n",
       " -0.025519999999999834\n",
       " -0.02296799999999985\n",
       " -0.020415999999999865\n",
       " -0.017863999999999883\n",
       " -0.015311999999999902\n",
       " -0.012759999999999919\n",
       " -0.010207999999999936\n",
       " -0.007655999999999951\n",
       " -0.005103999999999967\n",
       " -0.0025519999999999835\n",
       "  0.0"
      ]
     },
     "execution_count": 30,
     "metadata": {},
     "output_type": "execute_result"
    }
   ],
   "source": [
    "u = A\\b"
   ]
  },
  {
   "cell_type": "code",
   "execution_count": null,
   "id": "referenced-search",
   "metadata": {},
   "outputs": [],
   "source": []
  },
  {
   "cell_type": "code",
   "execution_count": 31,
   "id": "dried-indie",
   "metadata": {},
   "outputs": [
    {
     "data": {
      "image/png": "[encoded data removed]"
     },
     "execution_count": 31,
     "metadata": {},
     "output_type": "execute_result"
    }
   ],
   "source": [
    "fig = Figure(resolution = (400,200))\n",
    "ax = Axis(fig[1,1])\n",
    "plot!(u; color=:red)\n",
    "fig"
   ]
  },
  {
   "cell_type": "markdown",
   "id": "fuzzy-airport",
   "metadata": {},
   "source": [
    "# Poisson in 2D\n"
   ]
  },
  {
   "cell_type": "code",
   "execution_count": 36,
   "id": "automotive-cornell",
   "metadata": {},
   "outputs": [
    {
     "data": {
      "text/plain": [
       "9×9 Matrix{Float64}:\n",
       " 0.0  0.0  0.0  0.0  0.0  0.0  0.0  0.0  0.0\n",
       " 0.0  0.0  1.0  0.0  0.0  0.0  0.0  0.0  0.0\n",
       " 0.0  0.0  0.0  0.0  0.0  0.0  0.0  0.0  0.0\n",
       " 0.0  0.0  0.0  0.0  0.0  0.0  0.0  0.0  0.0\n",
       " 0.0  0.0  0.0  0.0  0.0  0.0  0.0  0.0  0.0\n",
       " 0.0  0.0  0.0  0.0  0.0  0.0  0.0  0.0  0.0\n",
       " 0.0  0.0  0.0  0.0  0.0  0.0  0.0  0.0  0.0\n",
       " 0.0  0.0  0.0  0.0  0.0  0.0  0.0  0.0  0.0\n",
       " 0.0  0.0  0.0  0.0  0.0  0.0  0.0  0.0  0.0"
      ]
     },
     "execution_count": 36,
     "metadata": {},
     "output_type": "execute_result"
    }
   ],
   "source": [
    "#domain size\n",
    "L = 1.0\n",
    "n = 9\n",
    "h = L/(n-1)\n",
    "\n",
    "ρ = zeros(n, n)\n",
    "ρ[2,3] = 1\n",
    "ρ"
   ]
  },
  {
   "cell_type": "code",
   "execution_count": 37,
   "id": "dirty-technique",
   "metadata": {},
   "outputs": [],
   "source": [
    "#linear system\n",
    "# Δu = ρ interior\n",
    "# u = 0 boundary\n",
    "\n",
    "# A x = b\n",
    "\n",
    "# step 1 define RHS b\n",
    "b = zeros((n)^2)\n",
    "for j in 1:n, i in 1:n\n",
    "    ij = i + n*(j-1)\n",
    "    if i==1 || i ==n || j==1 || j==n\n",
    "#         boundary\n",
    "        b[ij] = 0\n",
    "    else\n",
    "        b[ij] = ρ[i,j]\n",
    "    end\n",
    "end"
   ]
  },
  {
   "cell_type": "code",
   "execution_count": 38,
   "id": "qualified-cornell",
   "metadata": {},
   "outputs": [
    {
     "data": {
      "text/plain": [
       "81×81 SparseMatrixCSC{Float64, Int64} with 277 stored entries:\n",
       "⠑⢄⠀⠀⠀⠀⠀⠀⠀⠀⠀⠀⠀⠀⠀⠀⠀⠀⠀⠀⠀⠀⠀⠀⠀⠀⠀⠀⠀⠀⠀⠀⠀⠀⠀⠀⠀⠀⠀⠀\n",
       "⠀⠀⠑⢄⠀⠀⠀⠀⠀⠀⠀⠀⠀⠀⠀⠀⠀⠀⠀⠀⠀⠀⠀⠀⠀⠀⠀⠀⠀⠀⠀⠀⠀⠀⠀⠀⠀⠀⠀⠀\n",
       "⠠⡀⠀⠀⠱⣤⡀⠀⠀⠠⡀⠀⠀⠀⠀⠀⠀⠀⠀⠀⠀⠀⠀⠀⠀⠀⠀⠀⠀⠀⠀⠀⠀⠀⠀⠀⠀⠀⠀⠀\n",
       "⠀⠈⠢⡀⠀⠈⠻⣦⡀⠀⠈⠢⡀⠀⠀⠀⠀⠀⠀⠀⠀⠀⠀⠀⠀⠀⠀⠀⠀⠀⠀⠀⠀⠀⠀⠀⠀⠀⠀⠀\n",
       "⠀⠀⠀⠈⠀⡀⠀⠈⠙⣄⡀⠀⠈⠀⡀⠀⠀⠀⠀⠀⠀⠀⠀⠀⠀⠀⠀⠀⠀⠀⠀⠀⠀⠀⠀⠀⠀⠀⠀⠀\n",
       "⠀⠀⠀⠀⠀⠈⠢⡀⠀⠈⠻⣦⡀⠀⠈⠢⡀⠀⠀⠀⠀⠀⠀⠀⠀⠀⠀⠀⠀⠀⠀⠀⠀⠀⠀⠀⠀⠀⠀⠀\n",
       "⠀⠀⠀⠀⠀⠀⠀⠈⠂⠀⠀⠈⠛⢆⠀⠀⠈⠂⠀⠀⠀⠀⠀⠀⠀⠀⠀⠀⠀⠀⠀⠀⠀⠀⠀⠀⠀⠀⠀⠀\n",
       "⠀⠀⠀⠀⠀⠀⠀⠀⠀⠈⠢⡀⠀⠈⠻⣦⡀⠀⠈⢢⠀⠀⠀⠀⠀⠀⠀⠀⠀⠀⠀⠀⠀⠀⠀⠀⠀⠀⠀⠀\n",
       "⠀⠀⠀⠀⠀⠀⠀⠀⠀⠀⠀⠈⠢⠀⠀⠈⠻⢦⠀⠀⠑⠄⠀⠀⠀⠀⠀⠀⠀⠀⠀⠀⠀⠀⠀⠀⠀⠀⠀⠀\n",
       "⠀⠀⠀⠀⠀⠀⠀⠀⠀⠀⠀⠀⠀⠀⠢⣀⠀⠀⠳⣦⡀⠀⠐⢄⡀⠀⠀⠀⠀⠀⠀⠀⠀⠀⠀⠀⠀⠀⠀⠀\n",
       "⠀⠀⠀⠀⠀⠀⠀⠀⠀⠀⠀⠀⠀⠀⠀⠀⠑⠄⠀⠈⠻⢦⠀⠀⠈⠢⠀⠀⠀⠀⠀⠀⠀⠀⠀⠀⠀⠀⠀⠀\n",
       "⠀⠀⠀⠀⠀⠀⠀⠀⠀⠀⠀⠀⠀⠀⠀⠀⠀⠀⠐⢄⠀⠀⠳⣦⡀⠀⠀⠢⡀⠀⠀⠀⠀⠀⠀⠀⠀⠀⠀⠀\n",
       "⠀⠀⠀⠀⠀⠀⠀⠀⠀⠀⠀⠀⠀⠀⠀⠀⠀⠀⠀⠈⠢⡀⠀⠈⠻⣦⡀⠀⠈⠢⡀⠀⠀⠀⠀⠀⠀⠀⠀⠀\n",
       "⠀⠀⠀⠀⠀⠀⠀⠀⠀⠀⠀⠀⠀⠀⠀⠀⠀⠀⠀⠀⠀⠀⠠⡀⠀⠀⠱⣤⡀⠀⠀⠠⡀⠀⠀⠀⠀⠀⠀⠀\n",
       "⠀⠀⠀⠀⠀⠀⠀⠀⠀⠀⠀⠀⠀⠀⠀⠀⠀⠀⠀⠀⠀⠀⠀⠈⠢⡀⠀⠈⠻⣦⡀⠀⠈⠢⡀⠀⠀⠀⠀⠀\n",
       "⠀⠀⠀⠀⠀⠀⠀⠀⠀⠀⠀⠀⠀⠀⠀⠀⠀⠀⠀⠀⠀⠀⠀⠀⠀⠈⠀⡀⠀⠈⠙⣄⡀⠀⠈⠀⡀⠀⠀⠀\n",
       "⠀⠀⠀⠀⠀⠀⠀⠀⠀⠀⠀⠀⠀⠀⠀⠀⠀⠀⠀⠀⠀⠀⠀⠀⠀⠀⠀⠈⠢⡀⠀⠈⠻⣦⡀⠀⠈⠢⡀⠀\n",
       "⠀⠀⠀⠀⠀⠀⠀⠀⠀⠀⠀⠀⠀⠀⠀⠀⠀⠀⠀⠀⠀⠀⠀⠀⠀⠀⠀⠀⠀⠈⠂⠀⠀⠈⠛⢆⠀⠀⠈⠂\n",
       "⠀⠀⠀⠀⠀⠀⠀⠀⠀⠀⠀⠀⠀⠀⠀⠀⠀⠀⠀⠀⠀⠀⠀⠀⠀⠀⠀⠀⠀⠀⠀⠀⠀⠀⠀⠀⠑⢄⠀⠀\n",
       "⠀⠀⠀⠀⠀⠀⠀⠀⠀⠀⠀⠀⠀⠀⠀⠀⠀⠀⠀⠀⠀⠀⠀⠀⠀⠀⠀⠀⠀⠀⠀⠀⠀⠀⠀⠀⠀⠀⠑⢄"
      ]
     },
     "execution_count": 38,
     "metadata": {},
     "output_type": "execute_result"
    }
   ],
   "source": [
    "I = Int[]\n",
    "J = Int[]\n",
    "V = Float64[]\n",
    "# define A operator\n",
    "\n",
    "for j in 1:n, i in 1:n\n",
    "    ij = i + n*(j-1)\n",
    "    if i==1 || i ==n || j==1 || j==n\n",
    "#         boundary\n",
    "        push!(I,ij)\n",
    "        push!(J,ij)\n",
    "        push!(V,1)\n",
    "    else\n",
    "        i2 = i-1\n",
    "        j2 = j\n",
    "        ij2 = i2 + n*(j2-1)\n",
    "        push!(I,ij)\n",
    "        push!(J,ij2)\n",
    "        push!(V,1/h^2)\n",
    "        i2 = i+1\n",
    "        j2 = j\n",
    "        ij2 = i2 + n*(j2-1)\n",
    "        push!(I,ij)\n",
    "        push!(J,ij2)\n",
    "        push!(V,1/h^2)\n",
    "        i2 = i\n",
    "        j2 = j-1\n",
    "        ij2 = i2 + n*(j2-1)\n",
    "        push!(I,ij)\n",
    "        push!(J,ij2)\n",
    "        push!(V,1/h^2)\n",
    "        i2 = i\n",
    "        j2 = j+1\n",
    "        ij2 = i2 + n*(j2-1)\n",
    "        push!(I,ij)\n",
    "        push!(J,ij2)\n",
    "        push!(V,1/h^2)\n",
    "        i2 = i\n",
    "        j2 = j\n",
    "        ij2 = i2 + n*(j2-1)\n",
    "        push!(I,ij)\n",
    "        push!(J,ij2)\n",
    "        push!(V,-4/h^2)\n",
    "    end\n",
    "end\n",
    "A = sparse(I,J,V,n^2,n^2)"
   ]
  },
  {
   "cell_type": "code",
   "execution_count": 40,
   "id": "whole-crawford",
   "metadata": {},
   "outputs": [
    {
     "data": {
      "text/plain": [
       "9×9 Matrix{Float64}:\n",
       " 0.0   0.0           0.0          …   0.0           0.0          0.0\n",
       " 0.0  -0.00162995   -0.00536958      -0.00017538   -7.25674e-5   0.0\n",
       " 0.0  -0.00115024   -0.00230047      -0.000263445  -0.00011489   0.0\n",
       " 0.0  -0.000670517  -0.00115303      -0.000269818  -0.000123546  0.0\n",
       " 0.0  -0.000378803  -0.000631777     -0.000229895  -0.000109479  0.0\n",
       " 0.0  -0.000212916  -0.000357973  …  -0.000172305  -8.44726e-5   0.0\n",
       " 0.0  -0.00011489   -0.000196114     -0.000112213  -5.61066e-5   0.0\n",
       " 0.0  -5.05287e-5   -8.7225e-5       -5.48558e-5   -2.77406e-5   0.0\n",
       " 0.0   0.0           0.0              0.0           0.0          0.0"
      ]
     },
     "execution_count": 40,
     "metadata": {},
     "output_type": "execute_result"
    }
   ],
   "source": [
    "# solve the system\n",
    "u = A \\ b\n",
    "u = reshape(u,n,n)"
   ]
  },
  {
   "cell_type": "code",
   "execution_count": 42,
   "id": "after-colony",
   "metadata": {},
   "outputs": [],
   "source": [
    "using CairoMakie"
   ]
  },
  {
   "cell_type": "code",
   "execution_count": 44,
   "id": "particular-westminster",
   "metadata": {},
   "outputs": [
    {
     "data": {
      "image/png": "[encoded data removed]"
     },
     "execution_count": 44,
     "metadata": {},
     "output_type": "execute_result"
    }
   ],
   "source": [
    "fig = Figure(resolution = (600, 500))\n",
    "ax = Axis(fig[1, 1])\n",
    "co = contourf!(u)\n",
    "Colorbar(fig[1,2],co)\n",
    "fig"
   ]
  },
  {
   "cell_type": "code",
   "execution_count": null,
   "id": "widespread-emphasis",
   "metadata": {},
   "outputs": [],
   "source": []
  }
 ],
 "metadata": {
  "kernelspec": {
   "display_name": "Julia 1.8.4",
   "language": "julia",
   "name": "julia-1.8"
  },
  "language_info": {
   "file_extension": ".jl",
   "mimetype": "application/julia",
   "name": "julia",
   "version": "1.8.4"
  }
 },
 "nbformat": 4,
 "nbformat_minor": 5
}
