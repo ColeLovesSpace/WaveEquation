{
 "cells": [
  {
   "cell_type": "markdown",
   "id": "animated-inside",
   "metadata": {},
   "source": [
    "# Solve the wave equation"
   ]
  },
  {
   "cell_type": "code",
   "execution_count": 1,
   "id": "asian-champagne",
   "metadata": {},
   "outputs": [
    {
     "data": {
      "text/plain": [
       "coords (generic function with 1 method)"
      ]
     },
     "execution_count": 1,
     "metadata": {},
     "output_type": "execute_result"
    }
   ],
   "source": [
    "function coords(nn, ni, dt, dx)\n",
    "    t = [n * dt for i in 0:ni, n in 0:nn]\n",
    "    x = [i * dx for i in 0:ni, n in 0:nn]\n",
    "    return t, x\n",
    "end"
   ]
  },
  {
   "cell_type": "code",
   "execution_count": 7,
   "id": "occupational-school",
   "metadata": {},
   "outputs": [],
   "source": [
    "t, x = coords(101, 101, 1/100, 1/100);"
   ]
  },
  {
   "cell_type": "code",
   "execution_count": 8,
   "id": "confident-hobby",
   "metadata": {},
   "outputs": [
    {
     "data": {
      "text/plain": [
       "standing (generic function with 1 method)"
      ]
     },
     "execution_count": 8,
     "metadata": {},
     "output_type": "execute_result"
    }
   ],
   "source": [
    "function standing(t, x)\n",
    "    ni, nn = size(t)\n",
    "    u = zeros(ni, nn)\n",
    "    # Initial conditions for first two points in time\n",
    "    for n in 1:2, i in 1:ni\n",
    "        u[i, n] = cos(2π * t[n, i]) * sin(2π * x[n, i])\n",
    "    end\n",
    "    return u\n",
    "end"
   ]
  },
  {
   "cell_type": "code",
   "execution_count": 9,
   "id": "technical-birth",
   "metadata": {},
   "outputs": [],
   "source": [
    "u = standing(t, x);"
   ]
  },
  {
   "cell_type": "code",
   "execution_count": 10,
   "id": "numerous-friendly",
   "metadata": {},
   "outputs": [],
   "source": [
    "using CairoMakie"
   ]
  },
  {
   "cell_type": "code",
   "execution_count": 11,
   "id": "dressed-catalyst",
   "metadata": {},
   "outputs": [
    {
     "data": {
      "image/png": "[encoded data removed]"
     },
     "execution_count": 11,
     "metadata": {},
     "output_type": "execute_result"
    }
   ],
   "source": [
    "fig = Figure(resolution = (300, 300))\n",
    "ax = Axis(fig[1, 1])\n",
    "contourf!(vec(x), vec(t), vec(u))\n",
    "fig"
   ]
  },
  {
   "cell_type": "code",
   "execution_count": null,
   "id": "colored-breach",
   "metadata": {},
   "outputs": [],
   "source": []
  }
 ],
 "metadata": {
  "kernelspec": {
   "display_name": "Julia 1.8.5",
   "language": "julia",
   "name": "julia-1.8"
  },
  "language_info": {
   "file_extension": ".jl",
   "mimetype": "application/julia",
   "name": "julia",
   "version": "1.8.5"
  }
 },
 "nbformat": 4,
 "nbformat_minor": 5
}
